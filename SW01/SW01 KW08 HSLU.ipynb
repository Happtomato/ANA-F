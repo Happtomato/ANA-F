{
 "cells": [
  {
   "cell_type": "markdown",
   "id": "5b2994b8-c644-42d7-916f-afe7ff9de0c1",
   "metadata": {},
   "source": [
    "# Kurven"
   ]
  },
  {
   "cell_type": "code",
   "id": "07193cd2-4c99-4fdd-9b89-97be15d25ad4",
   "metadata": {
    "ExecuteTime": {
     "end_time": "2025-02-18T12:00:28.543570Z",
     "start_time": "2025-02-18T12:00:26.487668Z"
    }
   },
   "source": [
    "import numpy as np\n",
    "import matplotlib.pyplot as pl\n",
    "import ipywidgets as iw"
   ],
   "outputs": [],
   "execution_count": 1
  },
  {
   "cell_type": "markdown",
   "id": "c3e84aa7-8d6a-42a6-8734-350a11bacb9b",
   "metadata": {},
   "source": [
    "## Beispiele ebener Kurven"
   ]
  },
  {
   "cell_type": "code",
   "id": "e18b56ca-d4a0-424c-a771-3bbeaf5fd9a2",
   "metadata": {
    "ExecuteTime": {
     "end_time": "2025-02-18T12:00:28.556215Z",
     "start_time": "2025-02-18T12:00:28.551429Z"
    }
   },
   "source": [
    "def CurveDemo (curve, a, b):\n",
    "\n",
    "    tt = np.linspace (a, b, 200)\n",
    "    pp = curve (tt)\n",
    "\n",
    "    def Callback (t0):\n",
    "        pl.axis ('equal')\n",
    "        pl.plot (pp [0], pp [1], color = 'blue', zorder = 2)\n",
    "\n",
    "        p = curve (t0)\n",
    "        pl.plot (p [0], p [1], 'o', color = 'red', zorder = 4) \n",
    "    \n",
    "    sl = iw.FloatSlider (min = a, max = b, step = (b - a) / 1000, value = a)\n",
    "    iw.interact (Callback, t0 = sl)"
   ],
   "outputs": [],
   "execution_count": 2
  },
  {
   "cell_type": "code",
   "id": "f7c1222d-a095-4aef-8b4a-01fb1f15bb48",
   "metadata": {
    "ExecuteTime": {
     "end_time": "2025-02-18T12:00:29.035903Z",
     "start_time": "2025-02-18T12:00:28.673562Z"
    }
   },
   "source": [
    "def Beispiel (t):\n",
    "    x = np.sqrt (t)\n",
    "    y = t - t ** 2\n",
    "    return np.array ([x, y])\n",
    "\n",
    "CurveDemo (Beispiel, 0, 1)"
   ],
   "outputs": [
    {
     "data": {
      "text/plain": [
       "interactive(children=(FloatSlider(value=0.0, description='t0', max=1.0, step=0.001), Output()), _dom_classes=(…"
      ],
      "application/vnd.jupyter.widget-view+json": {
       "version_major": 2,
       "version_minor": 0,
       "model_id": "f6d6d97993ba482eaf1b4d97582cb906"
      }
     },
     "metadata": {},
     "output_type": "display_data"
    }
   ],
   "execution_count": 3
  },
  {
   "cell_type": "code",
   "id": "86d62b30-970d-4638-9cd5-56b12ab3c96f",
   "metadata": {
    "ExecuteTime": {
     "end_time": "2025-02-18T12:00:29.121218Z",
     "start_time": "2025-02-18T12:00:29.046602Z"
    }
   },
   "source": [
    "def InftySign1 (t):\n",
    "    x = t * (t ** 2 - 49) * (21888 + 1532 * t ** 2 - 35 * t ** 4) / 2471040\n",
    "    y = t * (t ** 2 - 49) * (t ** 2 - 16) * (108 - t ** 2) / 112320\n",
    "    return np.array ([x, y])\n",
    "\n",
    "CurveDemo (InftySign1, -7, 7)"
   ],
   "outputs": [
    {
     "data": {
      "text/plain": [
       "interactive(children=(FloatSlider(value=-7.0, description='t0', max=7.0, min=-7.0, step=0.014), Output()), _do…"
      ],
      "application/vnd.jupyter.widget-view+json": {
       "version_major": 2,
       "version_minor": 0,
       "model_id": "c2badb5a2ef34098b24a16bd10db2df5"
      }
     },
     "metadata": {},
     "output_type": "display_data"
    }
   ],
   "execution_count": 4
  },
  {
   "cell_type": "code",
   "id": "a16a605a-bb04-4e5e-9ca1-5d931523b107",
   "metadata": {
    "ExecuteTime": {
     "end_time": "2025-02-18T12:00:29.283045Z",
     "start_time": "2025-02-18T12:00:29.170234Z"
    }
   },
   "source": [
    "def InftySign2 (t):\n",
    "    return np.array ([2 * np.sin (t), np.sin (2 * t)])\n",
    "    \n",
    "CurveDemo (InftySign2, 0, 2 * np.pi)"
   ],
   "outputs": [
    {
     "data": {
      "text/plain": [
       "interactive(children=(FloatSlider(value=0.0, description='t0', max=6.283185307179586, step=0.00628318530717958…"
      ],
      "application/vnd.jupyter.widget-view+json": {
       "version_major": 2,
       "version_minor": 0,
       "model_id": "02fcf39610ba41f1a2c2b284a88a0c22"
      }
     },
     "metadata": {},
     "output_type": "display_data"
    }
   ],
   "execution_count": 5
  },
  {
   "cell_type": "markdown",
   "id": "ef267dcb-58f4-401a-84ad-8951cb851f64",
   "metadata": {},
   "source": [
    "Neilsche Parabel\n",
    "* https://de.wikipedia.org/wiki/Neilsche_Parabel\n",
    "* https://de.wikipedia.org/wiki/William_Neile"
   ]
  },
  {
   "cell_type": "code",
   "id": "94dc3d39-6441-41fd-9e1e-4c6b0c8fd755",
   "metadata": {
    "ExecuteTime": {
     "end_time": "2025-02-18T12:00:29.300245Z",
     "start_time": "2025-02-18T12:00:29.297440Z"
    }
   },
   "source": [
    "def Neil (t):\n",
    "    return np.array  ([t ** 3, 2 * t ** 2])"
   ],
   "outputs": [],
   "execution_count": 6
  },
  {
   "cell_type": "code",
   "id": "4eca588e-6b9c-4481-b4f9-05cd12b25392",
   "metadata": {
    "ExecuteTime": {
     "end_time": "2025-02-18T12:00:29.438418Z",
     "start_time": "2025-02-18T12:00:29.346196Z"
    }
   },
   "source": [
    "CurveDemo (Neil, -2, 2)"
   ],
   "outputs": [
    {
     "data": {
      "text/plain": [
       "interactive(children=(FloatSlider(value=-2.0, description='t0', max=2.0, min=-2.0, step=0.004), Output()), _do…"
      ],
      "application/vnd.jupyter.widget-view+json": {
       "version_major": 2,
       "version_minor": 0,
       "model_id": "5c0068583e084f99a5546ef09154ae91"
      }
     },
     "metadata": {},
     "output_type": "display_data"
    }
   ],
   "execution_count": 7
  },
  {
   "cell_type": "markdown",
   "id": "7586dcf8-f5f6-4b32-8bc2-f65a47063cce",
   "metadata": {},
   "source": [
    "## Ableitung von Kurven, Tangentialvektor"
   ]
  },
  {
   "cell_type": "code",
   "id": "9d9b5fc8-0b2b-439e-a54e-25d4e81fec41",
   "metadata": {
    "ExecuteTime": {
     "end_time": "2025-02-18T12:00:29.608678Z",
     "start_time": "2025-02-18T12:00:29.605056Z"
    }
   },
   "source": [
    "def Diff (c, t):\n",
    "    h = 1E-8\n",
    "    return (c (t + h) - c (t)) / h"
   ],
   "outputs": [],
   "execution_count": 8
  },
  {
   "cell_type": "code",
   "id": "606f2e31-bba7-4da0-88b2-61b0b100606a",
   "metadata": {
    "ExecuteTime": {
     "end_time": "2025-02-18T12:00:29.665697Z",
     "start_time": "2025-02-18T12:00:29.663191Z"
    }
   },
   "source": [
    "def PlotVector (p, v, **kwargs):\n",
    "    wd = 0.003\n",
    "    pl.quiver (p [0], p [1], v [0], v [1], **kwargs,\n",
    "        angles = 'xy', scale = 1, scale_units = 'xy', width = wd, headwidth = 6, headlength = 10, headaxislength = 9)"
   ],
   "outputs": [],
   "execution_count": 9
  },
  {
   "cell_type": "code",
   "id": "ff052389-241e-4471-87b8-08a77de274d4",
   "metadata": {
    "ExecuteTime": {
     "end_time": "2025-02-18T12:00:29.734756Z",
     "start_time": "2025-02-18T12:00:29.719619Z"
    }
   },
   "source": [
    "def TangentDemo (curve, a, b):\n",
    "\n",
    "    tangent = lambda t: Diff (curve, t)\n",
    "        \n",
    "    tt = np.linspace (a, b, 200)\n",
    "    pp = curve (tt)\n",
    "    qq = pp + tangent (tt)\n",
    "\n",
    "    def Callback (t0):\n",
    "        pl.axis ('equal')\n",
    "        pl.plot (pp [0], pp [1], color = 'blue', zorder = 2)\n",
    "        pl.plot (qq [0], qq [1], 'red', linewidth = 0)\n",
    "\n",
    "        p = curve (t0)\n",
    "        v = tangent (t0)\n",
    "        PlotVector (p, v, color = 'red', zorder = 4)\n",
    "        pl.plot (p [0], p [1], 'o', color = 'red', zorder = 4) \n",
    "    \n",
    "    sl = iw.FloatSlider (min = a, max = b, step = (b - a) / 1000, value = a)\n",
    "    iw.interact (Callback, t0 = sl)"
   ],
   "outputs": [],
   "execution_count": 10
  },
  {
   "cell_type": "code",
   "id": "d8da89d3-b2f6-406a-ba49-f24a1df14946",
   "metadata": {
    "ExecuteTime": {
     "end_time": "2025-02-18T12:00:29.957652Z",
     "start_time": "2025-02-18T12:00:29.854395Z"
    }
   },
   "source": [
    "TangentDemo (Beispiel, 0.05, 1)"
   ],
   "outputs": [
    {
     "data": {
      "text/plain": [
       "interactive(children=(FloatSlider(value=0.05, description='t0', max=1.0, min=0.05, step=0.00095), Output()), _…"
      ],
      "application/vnd.jupyter.widget-view+json": {
       "version_major": 2,
       "version_minor": 0,
       "model_id": "b07d42a29fb147739cc226da699093b3"
      }
     },
     "metadata": {},
     "output_type": "display_data"
    }
   ],
   "execution_count": 11
  },
  {
   "cell_type": "code",
   "id": "fb0986b0-9c91-4d5c-95ea-c8f9328e54e1",
   "metadata": {
    "ExecuteTime": {
     "end_time": "2025-02-18T12:00:30.049603Z",
     "start_time": "2025-02-18T12:00:29.986753Z"
    }
   },
   "source": [
    "TangentDemo (lambda t: Beispiel (t / 10), 0.5, 10)"
   ],
   "outputs": [
    {
     "data": {
      "text/plain": [
       "interactive(children=(FloatSlider(value=0.5, description='t0', max=10.0, min=0.5, step=0.0095), Output()), _do…"
      ],
      "application/vnd.jupyter.widget-view+json": {
       "version_major": 2,
       "version_minor": 0,
       "model_id": "e15d78e917894aa7abbab26b8a6533b4"
      }
     },
     "metadata": {},
     "output_type": "display_data"
    }
   ],
   "execution_count": 12
  },
  {
   "cell_type": "code",
   "id": "9be33eba-003e-477e-a448-47a0e8b6ded7",
   "metadata": {
    "ExecuteTime": {
     "end_time": "2025-02-18T12:00:30.177445Z",
     "start_time": "2025-02-18T12:00:30.076375Z"
    }
   },
   "source": [
    "TangentDemo (InftySign1, -7, 7)"
   ],
   "outputs": [
    {
     "data": {
      "text/plain": [
       "interactive(children=(FloatSlider(value=-7.0, description='t0', max=7.0, min=-7.0, step=0.014), Output()), _do…"
      ],
      "application/vnd.jupyter.widget-view+json": {
       "version_major": 2,
       "version_minor": 0,
       "model_id": "f831469decfd469d921512fa51d2c656"
      }
     },
     "metadata": {},
     "output_type": "display_data"
    }
   ],
   "execution_count": 13
  },
  {
   "cell_type": "code",
   "id": "366ac994-995e-4dfb-bc57-0573769ab623",
   "metadata": {
    "ExecuteTime": {
     "end_time": "2025-02-18T12:00:30.313429Z",
     "start_time": "2025-02-18T12:00:30.187210Z"
    }
   },
   "source": [
    "TangentDemo (InftySign2, 0, 2 * np.pi)"
   ],
   "outputs": [
    {
     "data": {
      "text/plain": [
       "interactive(children=(FloatSlider(value=0.0, description='t0', max=6.283185307179586, step=0.00628318530717958…"
      ],
      "application/vnd.jupyter.widget-view+json": {
       "version_major": 2,
       "version_minor": 0,
       "model_id": "d15b6738604c48eab4fa321f11ea6918"
      }
     },
     "metadata": {},
     "output_type": "display_data"
    }
   ],
   "execution_count": 14
  },
  {
   "cell_type": "code",
   "id": "cf33ce8d-cbbf-42c8-932d-9d6da8d83119",
   "metadata": {
    "ExecuteTime": {
     "end_time": "2025-02-18T12:00:30.423226Z",
     "start_time": "2025-02-18T12:00:30.376577Z"
    }
   },
   "source": [
    "TangentDemo (Neil, -2, 2)"
   ],
   "outputs": [
    {
     "data": {
      "text/plain": [
       "interactive(children=(FloatSlider(value=-2.0, description='t0', max=2.0, min=-2.0, step=0.004), Output()), _do…"
      ],
      "application/vnd.jupyter.widget-view+json": {
       "version_major": 2,
       "version_minor": 0,
       "model_id": "50ea6f9dd11941cb9d84a6450fd173bf"
      }
     },
     "metadata": {},
     "output_type": "display_data"
    }
   ],
   "execution_count": 15
  },
  {
   "cell_type": "markdown",
   "id": "1ec7c841-9cf2-48b7-9de9-01e56a9fe6a1",
   "metadata": {},
   "source": [
    "## Raumkurven"
   ]
  },
  {
   "cell_type": "code",
   "id": "f33831c5-2f76-48d4-9d2e-d6564c90cd49",
   "metadata": {
    "ExecuteTime": {
     "end_time": "2025-02-18T12:00:30.469465Z",
     "start_time": "2025-02-18T12:00:30.460949Z"
    }
   },
   "source": [
    "def PlotVector3D (p, v, **kwargs):\n",
    "    q = np.hstack ((p, p + v))\n",
    "    pl.plot (q [0], q [1], q [2], **kwargs)"
   ],
   "outputs": [],
   "execution_count": 16
  },
  {
   "cell_type": "code",
   "id": "ca7902cb-6c43-4cef-a0c8-eae2f98ed6ec",
   "metadata": {
    "ExecuteTime": {
     "end_time": "2025-02-18T12:00:30.523516Z",
     "start_time": "2025-02-18T12:00:30.520492Z"
    }
   },
   "source": [
    "def TangentDemo3D (curve, a, b):\n",
    "\n",
    "    tangent = lambda t: Diff (curve, t)\n",
    "        \n",
    "    tt = np.linspace (a, b, 1000)\n",
    "    pp = curve (tt)\n",
    "    qq = pp + tangent (tt)\n",
    "    pq = np.hstack ((pp, qq))\n",
    "\n",
    "    def Callback (t0, azi, ele):\n",
    "        fig = pl.figure()\n",
    "        ax = fig.add_subplot (111, projection = '3d')\n",
    "        ax.set_box_aspect ((np.ptp (pq [0]), np.ptp (pq [1]), np.ptp (pq [2])))\n",
    "        ax.view_init (elev = ele, azim = azi)\n",
    "\n",
    "        pl.plot (pp [0], pp [1], pp [2], color = 'blue', zorder = 2)\n",
    "        pl.plot (qq [0], qq [1], qq [2], 'red', linewidth = 0)\n",
    "\n",
    "        p = curve (t0)\n",
    "        v = tangent (t0)\n",
    "        PlotVector3D (p, v, color = 'red', zorder = 4)\n",
    "        pl.plot (p [0], p [1], p [2], 'o', color = 'red', zorder = 4) \n",
    "    \n",
    "    slt = iw.FloatSlider (min = a, max = b, step = (b - a) / 1000, value = (b - a) / 4)\n",
    "    slazi = iw.FloatSlider (min = 0, max = 360, step = 1, value = 30)\n",
    "    slele = iw.FloatSlider (min = -90, max = 90, step = 1, value = 40)\n",
    "    iw.interact (Callback, t0 = slt, azi = slazi, ele = slele);"
   ],
   "outputs": [],
   "execution_count": 17
  },
  {
   "cell_type": "code",
   "id": "ba61c9b3-e5d5-4e9e-a9cf-61f9afa7a097",
   "metadata": {
    "ExecuteTime": {
     "end_time": "2025-02-18T12:00:30.582251Z",
     "start_time": "2025-02-18T12:00:30.572630Z"
    }
   },
   "source": [
    "def Spirale (t):\n",
    "    r = 1\n",
    "    h = 1\n",
    "    x = r * np.cos (2 * np.pi * t)\n",
    "    y = r * np.sin (2 * np.pi * t)\n",
    "    z = h * t\n",
    "    return np.array ([[x], [y], [z]])"
   ],
   "outputs": [],
   "execution_count": 18
  },
  {
   "cell_type": "code",
   "id": "cc51e578-3f11-44c3-a5b8-4bea5589b5d3",
   "metadata": {
    "ExecuteTime": {
     "end_time": "2025-02-18T12:00:30.696255Z",
     "start_time": "2025-02-18T12:00:30.627172Z"
    }
   },
   "source": [
    "TangentDemo3D (lambda t: Spirale (t / 10), 0, 20)"
   ],
   "outputs": [
    {
     "data": {
      "text/plain": [
       "interactive(children=(FloatSlider(value=5.0, description='t0', max=20.0, step=0.02), FloatSlider(value=30.0, d…"
      ],
      "application/vnd.jupyter.widget-view+json": {
       "version_major": 2,
       "version_minor": 0,
       "model_id": "840a3e34809b4735ad3ff24f2c49d8ac"
      }
     },
     "metadata": {},
     "output_type": "display_data"
    }
   ],
   "execution_count": 19
  },
  {
   "cell_type": "code",
   "id": "2c5c6064-0e21-4007-af75-3f5b6892aac4",
   "metadata": {
    "ExecuteTime": {
     "end_time": "2025-02-18T12:00:30.708391Z",
     "start_time": "2025-02-18T12:00:30.706201Z"
    }
   },
   "source": [],
   "outputs": [],
   "execution_count": null
  },
  {
   "cell_type": "code",
   "id": "9c8d6db5-1d5e-40a6-a4c9-59bef4fd21df",
   "metadata": {
    "ExecuteTime": {
     "end_time": "2025-02-18T12:00:30.785306Z",
     "start_time": "2025-02-18T12:00:30.778179Z"
    }
   },
   "source": [],
   "outputs": [],
   "execution_count": null
  },
  {
   "cell_type": "code",
   "id": "9995b9e3-f650-42db-a7b2-ed3b88511e65",
   "metadata": {
    "ExecuteTime": {
     "end_time": "2025-02-18T12:00:30.826471Z",
     "start_time": "2025-02-18T12:00:30.820958Z"
    }
   },
   "source": [],
   "outputs": [],
   "execution_count": null
  },
  {
   "cell_type": "code",
   "id": "28ec0667-fbd0-4746-836c-5abecc1bcf87",
   "metadata": {
    "ExecuteTime": {
     "end_time": "2025-02-18T12:00:30.879575Z",
     "start_time": "2025-02-18T12:00:30.870486Z"
    }
   },
   "source": [],
   "outputs": [],
   "execution_count": null
  },
  {
   "cell_type": "code",
   "id": "92b93bb8-4b63-4b3a-a3b2-b3b2e8b65d09",
   "metadata": {
    "ExecuteTime": {
     "end_time": "2025-02-18T12:00:30.948810Z",
     "start_time": "2025-02-18T12:00:30.944653Z"
    }
   },
   "source": [],
   "outputs": [],
   "execution_count": null
  }
 ],
 "metadata": {
  "kernelspec": {
   "display_name": "Python 3 (ipykernel)",
   "language": "python",
   "name": "python3"
  },
  "language_info": {
   "codemirror_mode": {
    "name": "ipython",
    "version": 3
   },
   "file_extension": ".py",
   "mimetype": "text/x-python",
   "name": "python",
   "nbconvert_exporter": "python",
   "pygments_lexer": "ipython3",
   "version": "3.12.5"
  }
 },
 "nbformat": 4,
 "nbformat_minor": 5
}
